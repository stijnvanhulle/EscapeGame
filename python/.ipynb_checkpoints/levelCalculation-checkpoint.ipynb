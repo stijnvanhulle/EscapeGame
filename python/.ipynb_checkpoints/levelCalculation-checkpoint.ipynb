{
 "cells": [
  {
   "cell_type": "code",
   "execution_count": 1,
   "metadata": {
    "collapsed": true
   },
   "outputs": [],
   "source": [
    "import pandas as pd\n",
    "import numpy as np\n",
    "import matplotlib.pyplot as plt\n",
    "import os\n",
    "import math\n",
    "import decimal\n",
    "import sys\n",
    "import sklearn\n",
    "from sklearn.utils import shuffle\n",
    "from sklearn import linear_model\n",
    "%matplotlib inline"
   ]
  },
  {
   "cell_type": "code",
   "execution_count": 2,
   "metadata": {
    "collapsed": false
   },
   "outputs": [],
   "source": [
    "data=[{'gameDataId':4,'duration':120},{'gameDataId':4,'duration':120}]\n",
    "maxLevel=10"
   ]
  },
  {
   "cell_type": "code",
   "execution_count": 3,
   "metadata": {
    "collapsed": false
   },
   "outputs": [
    {
     "data": {
      "text/html": [
       "<div>\n",
       "<table border=\"1\" class=\"dataframe\">\n",
       "  <thead>\n",
       "    <tr style=\"text-align: right;\">\n",
       "      <th></th>\n",
       "      <th>gameDataId</th>\n",
       "      <th>timeBetween</th>\n",
       "      <th>percentSpeed</th>\n",
       "      <th>timePlayed</th>\n",
       "      <th>tries</th>\n",
       "      <th>isCorrect</th>\n",
       "      <th>level</th>\n",
       "      <th>gameId</th>\n",
       "      <th>id</th>\n",
       "      <th>activateDate</th>\n",
       "      <th>endDate</th>\n",
       "      <th>finishDate</th>\n",
       "      <th>isActive</th>\n",
       "      <th>letter</th>\n",
       "      <th>date</th>\n",
       "      <th>activateDateFormat</th>\n",
       "      <th>endDateFormat</th>\n",
       "      <th>finishDateFormat</th>\n",
       "      <th>gameDuration</th>\n",
       "    </tr>\n",
       "  </thead>\n",
       "  <tbody>\n",
       "    <tr>\n",
       "      <th>0</th>\n",
       "      <td>2</td>\n",
       "      <td>20</td>\n",
       "      <td>1</td>\n",
       "      <td>20</td>\n",
       "      <td>0</td>\n",
       "      <td>False</td>\n",
       "      <td>5</td>\n",
       "      <td>1</td>\n",
       "      <td>1</td>\n",
       "      <td>1484317625938</td>\n",
       "      <td>1484317645938</td>\n",
       "      <td>1484317645938</td>\n",
       "      <td>True</td>\n",
       "      <td>NaN</td>\n",
       "      <td>NaN</td>\n",
       "      <td>2017-01-13T14:27:05+00:00</td>\n",
       "      <td>2017-01-13T14:27:25+00:00</td>\n",
       "      <td>2017-01-13T14:27:25+00:00</td>\n",
       "      <td>176</td>\n",
       "    </tr>\n",
       "    <tr>\n",
       "      <th>1</th>\n",
       "      <td>4</td>\n",
       "      <td>22</td>\n",
       "      <td>1</td>\n",
       "      <td>22</td>\n",
       "      <td>0</td>\n",
       "      <td>False</td>\n",
       "      <td>4</td>\n",
       "      <td>1</td>\n",
       "      <td>2</td>\n",
       "      <td>1484317649938</td>\n",
       "      <td>1484317671938</td>\n",
       "      <td>1484317671938</td>\n",
       "      <td>True</td>\n",
       "      <td>NaN</td>\n",
       "      <td>1.484318e+12</td>\n",
       "      <td>2017-01-13T14:27:29+00:00</td>\n",
       "      <td>2017-01-13T14:27:51+00:00</td>\n",
       "      <td>2017-01-13T14:27:51+00:00</td>\n",
       "      <td>176</td>\n",
       "    </tr>\n",
       "    <tr>\n",
       "      <th>2</th>\n",
       "      <td>4</td>\n",
       "      <td>26</td>\n",
       "      <td>1</td>\n",
       "      <td>26</td>\n",
       "      <td>0</td>\n",
       "      <td>False</td>\n",
       "      <td>3</td>\n",
       "      <td>1</td>\n",
       "      <td>3</td>\n",
       "      <td>1484317675938</td>\n",
       "      <td>1484317701938</td>\n",
       "      <td>1484317701938</td>\n",
       "      <td>True</td>\n",
       "      <td>NaN</td>\n",
       "      <td>1.484318e+12</td>\n",
       "      <td>2017-01-13T14:27:55+00:00</td>\n",
       "      <td>2017-01-13T14:28:21+00:00</td>\n",
       "      <td>2017-01-13T14:28:21+00:00</td>\n",
       "      <td>176</td>\n",
       "    </tr>\n",
       "    <tr>\n",
       "      <th>3</th>\n",
       "      <td>4</td>\n",
       "      <td>36</td>\n",
       "      <td>1</td>\n",
       "      <td>36</td>\n",
       "      <td>0</td>\n",
       "      <td>False</td>\n",
       "      <td>2</td>\n",
       "      <td>1</td>\n",
       "      <td>4</td>\n",
       "      <td>1484317705938</td>\n",
       "      <td>1484317741938</td>\n",
       "      <td>1484317741938</td>\n",
       "      <td>True</td>\n",
       "      <td>NaN</td>\n",
       "      <td>1.484318e+12</td>\n",
       "      <td>2017-01-13T14:28:25+00:00</td>\n",
       "      <td>2017-01-13T14:29:01+00:00</td>\n",
       "      <td>2017-01-13T14:29:01+00:00</td>\n",
       "      <td>176</td>\n",
       "    </tr>\n",
       "    <tr>\n",
       "      <th>4</th>\n",
       "      <td>4</td>\n",
       "      <td>55</td>\n",
       "      <td>1</td>\n",
       "      <td>55</td>\n",
       "      <td>0</td>\n",
       "      <td>False</td>\n",
       "      <td>1</td>\n",
       "      <td>1</td>\n",
       "      <td>5</td>\n",
       "      <td>1484317745938</td>\n",
       "      <td>1484317800938</td>\n",
       "      <td>1484317800938</td>\n",
       "      <td>True</td>\n",
       "      <td>NaN</td>\n",
       "      <td>1.484318e+12</td>\n",
       "      <td>2017-01-13T14:29:05+00:00</td>\n",
       "      <td>2017-01-13T14:30:00+00:00</td>\n",
       "      <td>2017-01-13T14:30:00+00:00</td>\n",
       "      <td>176</td>\n",
       "    </tr>\n",
       "  </tbody>\n",
       "</table>\n",
       "</div>"
      ],
      "text/plain": [
       "   gameDataId  timeBetween  percentSpeed  timePlayed  tries isCorrect  level  \\\n",
       "0           2           20             1          20      0     False      5   \n",
       "1           4           22             1          22      0     False      4   \n",
       "2           4           26             1          26      0     False      3   \n",
       "3           4           36             1          36      0     False      2   \n",
       "4           4           55             1          55      0     False      1   \n",
       "\n",
       "   gameId  id   activateDate        endDate     finishDate isActive  letter  \\\n",
       "0       1   1  1484317625938  1484317645938  1484317645938     True     NaN   \n",
       "1       1   2  1484317649938  1484317671938  1484317671938     True     NaN   \n",
       "2       1   3  1484317675938  1484317701938  1484317701938     True     NaN   \n",
       "3       1   4  1484317705938  1484317741938  1484317741938     True     NaN   \n",
       "4       1   5  1484317745938  1484317800938  1484317800938     True     NaN   \n",
       "\n",
       "           date         activateDateFormat              endDateFormat  \\\n",
       "0           NaN  2017-01-13T14:27:05+00:00  2017-01-13T14:27:25+00:00   \n",
       "1  1.484318e+12  2017-01-13T14:27:29+00:00  2017-01-13T14:27:51+00:00   \n",
       "2  1.484318e+12  2017-01-13T14:27:55+00:00  2017-01-13T14:28:21+00:00   \n",
       "3  1.484318e+12  2017-01-13T14:28:25+00:00  2017-01-13T14:29:01+00:00   \n",
       "4  1.484318e+12  2017-01-13T14:29:05+00:00  2017-01-13T14:30:00+00:00   \n",
       "\n",
       "            finishDateFormat  gameDuration  \n",
       "0  2017-01-13T14:27:25+00:00           176  \n",
       "1  2017-01-13T14:27:51+00:00           176  \n",
       "2  2017-01-13T14:28:21+00:00           176  \n",
       "3  2017-01-13T14:29:01+00:00           176  \n",
       "4  2017-01-13T14:30:00+00:00           176  "
      ]
     },
     "execution_count": 3,
     "metadata": {},
     "output_type": "execute_result"
    }
   ],
   "source": [
    "# Inladen van de data\n",
    "df =pd.read_csv('games.csv')\n",
    "df.sort_values('gameDataId', axis=0, ascending=True,inplace=True)\n",
    "\n",
    "df.head()\n"
   ]
  },
  {
   "cell_type": "code",
   "execution_count": 4,
   "metadata": {
    "collapsed": false
   },
   "outputs": [
    {
     "data": {
      "text/html": [
       "<div>\n",
       "<table border=\"1\" class=\"dataframe\">\n",
       "  <thead>\n",
       "    <tr style=\"text-align: right;\">\n",
       "      <th></th>\n",
       "      <th>gameDataId</th>\n",
       "      <th>gameDuration</th>\n",
       "      <th>level</th>\n",
       "    </tr>\n",
       "  </thead>\n",
       "  <tbody>\n",
       "    <tr>\n",
       "      <th>0</th>\n",
       "      <td>2</td>\n",
       "      <td>176</td>\n",
       "      <td>5</td>\n",
       "    </tr>\n",
       "    <tr>\n",
       "      <th>1</th>\n",
       "      <td>4</td>\n",
       "      <td>176</td>\n",
       "      <td>4</td>\n",
       "    </tr>\n",
       "    <tr>\n",
       "      <th>2</th>\n",
       "      <td>4</td>\n",
       "      <td>176</td>\n",
       "      <td>3</td>\n",
       "    </tr>\n",
       "    <tr>\n",
       "      <th>3</th>\n",
       "      <td>4</td>\n",
       "      <td>176</td>\n",
       "      <td>2</td>\n",
       "    </tr>\n",
       "    <tr>\n",
       "      <th>4</th>\n",
       "      <td>4</td>\n",
       "      <td>176</td>\n",
       "      <td>1</td>\n",
       "    </tr>\n",
       "  </tbody>\n",
       "</table>\n",
       "</div>"
      ],
      "text/plain": [
       "   gameDataId  gameDuration  level\n",
       "0           2           176      5\n",
       "1           4           176      4\n",
       "2           4           176      3\n",
       "3           4           176      2\n",
       "4           4           176      1"
      ]
     },
     "execution_count": 4,
     "metadata": {},
     "output_type": "execute_result"
    }
   ],
   "source": [
    "#df=df.drop(df.columns[[1,2,5,7,8,9,10,11,12,13,14,15,16]], axis=1)\n",
    "sequence = ['gameDataId','gameDuration','level']\n",
    "df = df.reindex(columns=sequence)\n",
    "df.head()"
   ]
  },
  {
   "cell_type": "code",
   "execution_count": 5,
   "metadata": {
    "collapsed": false
   },
   "outputs": [
    {
     "data": {
      "text/html": [
       "<div>\n",
       "<table border=\"1\" class=\"dataframe\">\n",
       "  <thead>\n",
       "    <tr style=\"text-align: right;\">\n",
       "      <th></th>\n",
       "      <th>gameDataId</th>\n",
       "      <th>gameDuration</th>\n",
       "      <th>level</th>\n",
       "    </tr>\n",
       "  </thead>\n",
       "  <tbody>\n",
       "    <tr>\n",
       "      <th>gameDataId</th>\n",
       "      <td>1.000000</td>\n",
       "      <td>NaN</td>\n",
       "      <td>-0.657376</td>\n",
       "    </tr>\n",
       "    <tr>\n",
       "      <th>gameDuration</th>\n",
       "      <td>NaN</td>\n",
       "      <td>NaN</td>\n",
       "      <td>NaN</td>\n",
       "    </tr>\n",
       "    <tr>\n",
       "      <th>level</th>\n",
       "      <td>-0.657376</td>\n",
       "      <td>NaN</td>\n",
       "      <td>1.000000</td>\n",
       "    </tr>\n",
       "  </tbody>\n",
       "</table>\n",
       "</div>"
      ],
      "text/plain": [
       "              gameDataId  gameDuration     level\n",
       "gameDataId      1.000000           NaN -0.657376\n",
       "gameDuration         NaN           NaN       NaN\n",
       "level          -0.657376           NaN  1.000000"
      ]
     },
     "execution_count": 5,
     "metadata": {},
     "output_type": "execute_result"
    }
   ],
   "source": [
    "df.corr()"
   ]
  },
  {
   "cell_type": "code",
   "execution_count": 6,
   "metadata": {
    "collapsed": false
   },
   "outputs": [
    {
     "data": {
      "text/plain": [
       "<matplotlib.collections.PathCollection at 0x11a1cc940>"
      ]
     },
     "execution_count": 6,
     "metadata": {},
     "output_type": "execute_result"
    },
    {
     "data": {
      "image/png": "[encoded data removed]",
      "text/plain": [
       "<matplotlib.figure.Figure at 0x117829dd8>"
      ]
     },
     "metadata": {},
     "output_type": "display_data"
    },
    {
     "data": {
      "image/png": "[encoded data removed]",
      "text/plain": [
       "<matplotlib.figure.Figure at 0x119cf4898>"
      ]
     },
     "metadata": {},
     "output_type": "display_data"
    }
   ],
   "source": [
    "fig2=plt.figure();\n",
    "ax1=fig2.add_axes([0,0,1,1])\n",
    "ax1.scatter(df.level, df.gameDataId)\n",
    "\n",
    "fig1=plt.figure();\n",
    "ax1=fig1.add_axes([0,0,1,1])\n",
    "ax1.scatter(df.level, df.gameDuration)"
   ]
  },
  {
   "cell_type": "code",
   "execution_count": 7,
   "metadata": {
    "collapsed": false
   },
   "outputs": [
    {
     "data": {
      "text/plain": [
       "-0.20456466610312707"
      ]
     },
     "execution_count": 7,
     "metadata": {},
     "output_type": "execute_result"
    }
   ],
   "source": [
    "#randomiseer en eerste 100 als testset gebruiken:\n",
    "\n",
    "dfrnd = shuffle(df,random_state=0)\n",
    "#dfTrain = dataset[0:1000]\n",
    "#dfTest = dataset[1000:]\n",
    "\n",
    "#dataset opsplitsen\n",
    "from sklearn.cross_validation import train_test_split\n",
    "from sklearn.cross_validation import ShuffleSplit\n",
    "\n",
    "features = dfrnd.ix[:,[0,1]].copy() #o tot en met 3\n",
    "targets = dfrnd.ix[:,[2]].copy() # 4\n",
    "\n",
    "X_train, X_test, Y_train, Y_test = train_test_split(features, targets, test_size=0.4, random_state=0)\n",
    "\n",
    "#training en validatie\n",
    "\n",
    "regr_ep = linear_model.LinearRegression()\n",
    "regr_ep.fit(X_train, Y_train)\n",
    "\n",
    "\n",
    "#testen van de rest van de dataset\n",
    "regr_ep.score(X_test, Y_test) #--> vrij dicht bij 1 -> vrij goede correlatie"
   ]
  },
  {
   "cell_type": "code",
   "execution_count": 8,
   "metadata": {
    "collapsed": false
   },
   "outputs": [
    {
     "data": {
      "text/plain": [
       "array([[ 3.23076923]])"
      ]
     },
     "execution_count": 8,
     "metadata": {},
     "output_type": "execute_result"
    }
   ],
   "source": [
    "regr_ep.predict([[4,120]])"
   ]
  },
  {
   "cell_type": "code",
   "execution_count": 11,
   "metadata": {
    "collapsed": false
   },
   "outputs": [],
   "source": [
    "val=[]\n",
    "if len(data)>0:\n",
    "    for x in data:\n",
    "        if x['duration'] is not None and x['gameDataId'] is not None:\n",
    "            item=regr_ep.predict([[x['duration'],x['gameDataId']]])\n",
    "            if item<=maxLevel and item>0:\n",
    "                rounded= math.ceil(item[0][0]*100)/100\n",
    "                x['level']=rounded\n",
    "                print(x)\n",
    "\n",
    "                val.append(x)\n",
    "            else:\n",
    "                print(item,'not good leven')\n"
   ]
  },
  {
   "cell_type": "code",
   "execution_count": 10,
   "metadata": {
    "collapsed": false
   },
   "outputs": [
    {
     "name": "stdout",
     "output_type": "stream",
     "text": [
      "[]\n"
     ]
    }
   ],
   "source": [
    "print(val)"
   ]
  },
  {
   "cell_type": "code",
   "execution_count": null,
   "metadata": {
    "collapsed": true
   },
   "outputs": [],
   "source": []
  }
 ],
 "metadata": {
  "anaconda-cloud": {},
  "kernelspec": {
   "display_name": "Python [default]",
   "language": "python",
   "name": "python3"
  },
  "language_info": {
   "codemirror_mode": {
    "name": "ipython",
    "version": 3
   },
   "file_extension": ".py",
   "mimetype": "text/x-python",
   "name": "python",
   "nbconvert_exporter": "python",
   "pygments_lexer": "ipython3",
   "version": "3.5.2"
  },
  "toc": {
   "toc_cell": false,
   "toc_number_sections": true,
   "toc_threshold": 6,
   "toc_window_display": false
  }
 },
 "nbformat": 4,
 "nbformat_minor": 0
}
