{
 "cells": [
  {
   "cell_type": "code",
   "execution_count": 5,
   "metadata": {
    "collapsed": false
   },
   "outputs": [
    {
     "name": "stdout",
     "output_type": "stream",
     "text": [
      "4\n",
      "0.0\n"
     ]
    }
   ],
   "source": [
    "\n",
    "import cv2\n",
    "from matplotlib import pyplot as plt\n",
    "import numpy as np\n",
    "\n",
    "image1='/Users/stijnvanhulle/GitHub/EscapePlan/app/server/public/uploads/8b841d8889abade.png'\n",
    "image2='/Users/stijnvanhulle/GitHub/EscapePlan/app/server/public/uploads/4cf71b9d1ae5994.png'\n",
    "\n",
    "sift= cv2.xfeatures2d.SIFT_create()\n",
    "surf= cv2.xfeatures2d.SURF_create()\n",
    "orb = cv2.ORB_create()\n",
    "\n",
    "img1 = cv2.imread(image1,0)        # queryImage\n",
    "img2 = cv2.imread(image2,0) \t\t# trainImage\n",
    "\n",
    "\n",
    "# find the keypoints and descriptors with SIFT\n",
    "kp1, des1 = sift.detectAndCompute(img1,None)\n",
    "kp2, des2 = sift.detectAndCompute(img2,None)\n",
    "# BFMatcher with default params\n",
    "bf = cv2.BFMatcher()\n",
    "matches = bf.knnMatch(des1,des2, k=2)\n",
    "\n",
    "# Apply ratio test\n",
    "good = []\n",
    "for m,n in matches:\n",
    "    if m.distance < 0.25*n.distance:\n",
    "        good.append([m])\n",
    "print('4')\n",
    "amount=len(good)      \n",
    "percent=amount/len(matches)\n",
    "print(percent *100)\n",
    "# cv2.drawMatchesKnn expects list of lists as matches.\n",
    "#img3 = cv2.drawMatchesKnn(img1,kp1,img2,kp2,good,None,flags=2)\n",
    "#plt.imshow(img3)\n",
    "#plt.show()"
   ]
  },
  {
   "cell_type": "code",
   "execution_count": null,
   "metadata": {
    "collapsed": true
   },
   "outputs": [],
   "source": []
  }
 ],
 "metadata": {
  "anaconda-cloud": {},
  "kernelspec": {
   "display_name": "Python [conda root]",
   "language": "python",
   "name": "conda-root-py"
  },
  "language_info": {
   "codemirror_mode": {
    "name": "ipython",
    "version": 3
   },
   "file_extension": ".py",
   "mimetype": "text/x-python",
   "name": "python",
   "nbconvert_exporter": "python",
   "pygments_lexer": "ipython3",
   "version": "3.5.2"
  }
 },
 "nbformat": 4,
 "nbformat_minor": 1
}
